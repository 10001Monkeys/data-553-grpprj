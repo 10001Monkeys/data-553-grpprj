{
 "cells": [
  {
   "cell_type": "markdown",
   "metadata": {},
   "source": [
    "The purpose of this **python 3** notebook is to load all of the output CSV files from the classifier program, label the datarows, combine them all in one csv, and output the csv for use in a pivot table in excel."
   ]
  },
  {
   "cell_type": "code",
   "execution_count": 1,
   "metadata": {},
   "outputs": [],
   "source": [
    "import pandas as pd\n",
    "import re\n",
    "from pathlib import Path"
   ]
  },
  {
   "cell_type": "code",
   "execution_count": 14,
   "metadata": {},
   "outputs": [
    {
     "name": "stdout",
     "output_type": "stream",
     "text": [
      "Loaded: Bug meanscores\n",
      "Loaded: Feature meanscores\n",
      "Loaded: Not_Bug meanscores\n",
      "Loaded: Not_Feature meanscores\n",
      "Loaded: Not_Rating meanscores\n",
      "Loaded: Not_UserExperience meanscores\n",
      "Loaded: Rating meanscores\n",
      "Loaded: UserExperience meanscores\n",
      "Combined in dataframe of length: 132\n",
      "Saved to meanscore_original_output.csv\n"
     ]
    }
   ],
   "source": [
    "#Use pathlib to get a list of all csv files with \"meanscores\" in the name\n",
    "#Searches downwards starting in the 'output_all' folder\n",
    "\n",
    "outputFilename = \"meanscore_original_output.csv\"\n",
    "\n",
    "p = Path(\"./output_all\")\n",
    "filterFile = list(p.glob('**/*meanscores*.csv'))\n",
    "\n",
    "#Create a pandas data frame for every entry in the csv file.\n",
    "#Store them in a list called dfList\n",
    "dfList = []\n",
    "for entry in filterFile:\n",
    "    fname=entry.name #This gets the actual file name (as a string) from the pathlib object\n",
    "    label =\"\"\n",
    "    if re.search(\"Not_\", fname):\n",
    "        label+=\"Not_\"\n",
    "    if re.search(\"Bug\", fname):\n",
    "        label+=\"Bug\"\n",
    "    elif re.search(\"UserExperience\", fname):\n",
    "        label+=\"UserExperience\"\n",
    "    elif re.search(\"Feature\", fname):\n",
    "        label+=\"Feature\"\n",
    "    elif re.search(\"Rating\", fname):\n",
    "        label+=\"Rating\"\n",
    "    else: label = \"UNKNOWN\"\n",
    "    \n",
    "    #My RegEx is too weak to do this properly...so here's my solution to finding the type of value stored in the file\n",
    "    \n",
    "    val = fname.split(\"_\")[-3]\n",
    "    print(\"Loaded:\",label,val)\n",
    "    df = pd.read_csv(entry, sep=\";\") \n",
    "    df[\"label\"] = label\n",
    "    df[\"value\"] = val\n",
    "    dfList.append(df)\n",
    "\n",
    "\n",
    "masterDF = pd.concat(dfList,ignore_index=True)    \n",
    "print(\"Combined in dataframe of length:\",len(masterDF))\n",
    "#Save the index as uid for Unique ID\n",
    "masterDF.to_csv(outputFilename)\n",
    "print(\"Saved to\",outputFilename)\n",
    "#Clean up some memory\n",
    "df=None \n",
    "dfList=None \n"
   ]
  },
  {
   "cell_type": "markdown",
   "metadata": {},
   "source": [
    "This was my original version. Probably no need to run it. It loads ALL the files instead of the ones that have the means in them. So the end result is a csv that also has the results for each K-Fold."
   ]
  },
  {
   "cell_type": "code",
   "execution_count": 15,
   "metadata": {},
   "outputs": [
    {
     "name": "stdout",
     "output_type": "stream",
     "text": [
      "Loaded: Bug f1score\n",
      "Loaded: Bug meanscores\n",
      "Loaded: Bug precision\n",
      "Loaded: Bug recall\n",
      "Loaded: Feature f1score\n",
      "Loaded: Feature meanscores\n",
      "Loaded: Feature precision\n",
      "Loaded: Feature recall\n",
      "Loaded: Not_Bug f1score\n",
      "Loaded: Not_Bug meanscores\n",
      "Loaded: Not_Bug precision\n",
      "Loaded: Not_Bug recall\n",
      "Loaded: Not_Feature f1score\n",
      "Loaded: Not_Feature meanscores\n",
      "Loaded: Not_Feature precision\n",
      "Loaded: Not_Feature recall\n",
      "Loaded: Not_Rating f1score\n",
      "Loaded: Not_Rating meanscores\n",
      "Loaded: Not_Rating precision\n",
      "Loaded: Not_Rating recall\n",
      "Loaded: Not_UserExperience f1score\n",
      "Loaded: Not_UserExperience meanscores\n",
      "Loaded: Not_UserExperience precision\n",
      "Loaded: Not_UserExperience recall\n",
      "Loaded: Rating f1score\n",
      "Loaded: Rating meanscores\n",
      "Loaded: Rating precision\n",
      "Loaded: Rating recall\n",
      "Loaded: UNKNOWN time\n",
      "Loaded: UserExperience f1score\n",
      "Loaded: UserExperience meanscores\n",
      "Loaded: UserExperience precision\n",
      "Loaded: UserExperience recall\n",
      "Combined in dataframe of length: 594\n",
      "Saved to all_original_output.csv\n"
     ]
    },
    {
     "name": "stderr",
     "output_type": "stream",
     "text": [
      "C:\\Users\\Alex\\Anaconda3\\lib\\site-packages\\ipykernel_launcher.py:37: FutureWarning: Sorting because non-concatenation axis is not aligned. A future version\n",
      "of pandas will change to not sort by default.\n",
      "\n",
      "To accept the future behavior, pass 'sort=False'.\n",
      "\n",
      "To retain the current behavior and silence the warning, pass 'sort=True'.\n",
      "\n"
     ]
    }
   ],
   "source": [
    "#Use pathlib to get a list of all csv files with \"new\" in the name\n",
    "#Searches downwards starting in the 'output_all' folder\n",
    "\n",
    "outputFilename = \"all_original_output.csv\"\n",
    "\n",
    "p = Path(\"./output_all\")\n",
    "filterFile = list(p.glob('**/*.csv'))\n",
    "\n",
    "#Create a pandas data frame for every entry in the csv file.\n",
    "#Store them in a list called dfList\n",
    "dfList = []\n",
    "for entry in filterFile:\n",
    "    fname=entry.name #This gets the actual file name (as a string) from the pathlib object\n",
    "    label =\"\"\n",
    "    if re.search(\"Not_\", fname):\n",
    "        label+=\"Not_\"\n",
    "    if re.search(\"Bug\", fname):\n",
    "        label+=\"Bug\"\n",
    "    elif re.search(\"UserExperience\", fname):\n",
    "        label+=\"UserExperience\"\n",
    "    elif re.search(\"Feature\", fname):\n",
    "        label+=\"Feature\"\n",
    "    elif re.search(\"Rating\", fname):\n",
    "        label+=\"Rating\"\n",
    "    else: label = \"UNKNOWN\"\n",
    "    \n",
    "    #My RegEx is too weak to do this properly...so here's my solution to finding the type of value stored in the file\n",
    "    \n",
    "    val = fname.split(\"_\")[-3]\n",
    "    print(\"Loaded:\",label,val)\n",
    "    df = pd.read_csv(entry, sep=\";\") \n",
    "    df[\"label\"] = label\n",
    "    df[\"value\"] = val\n",
    "    dfList.append(df)\n",
    "\n",
    "\n",
    "masterDF = pd.concat(dfList,ignore_index=True)    \n",
    "print(\"Combined in dataframe of length:\",len(masterDF))\n",
    "#Save the index as uid for Unique ID\n",
    "masterDF.to_csv(outputFilename)\n",
    "print(\"Saved to\",outputFilename)\n",
    "#Clean up some memory\n",
    "df=None \n",
    "dfList=None \n"
   ]
  }
 ],
 "metadata": {
  "kernelspec": {
   "display_name": "Python 3",
   "language": "python",
   "name": "python3"
  },
  "language_info": {
   "codemirror_mode": {
    "name": "ipython",
    "version": 3
   },
   "file_extension": ".py",
   "mimetype": "text/x-python",
   "name": "python",
   "nbconvert_exporter": "python",
   "pygments_lexer": "ipython3",
   "version": "3.7.3"
  }
 },
 "nbformat": 4,
 "nbformat_minor": 2
}
